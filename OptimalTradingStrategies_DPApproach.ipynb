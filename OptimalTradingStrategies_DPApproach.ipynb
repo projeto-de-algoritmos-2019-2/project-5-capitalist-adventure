{
 "cells": [
  {
   "cell_type": "markdown",
   "metadata": {},
   "source": [
    "# Optimal trading strategies\n",
    "## A Dynamic Programming Approach"
   ]
  },
  {
   "cell_type": "markdown",
   "metadata": {},
   "source": [
    "### Introduction\n",
    "Stock trading has been one of the most popular ways of buinding one's capitalist fortune. However, predicting its behaviour is not easy (actually, due to the subjectivity of the factors that affect stock prices, it is actually impossible to perfectly predict it). That's why it is common for traders to keep analyzing previous trading strategies comparing them with the optimal choices that should've been made."
   ]
  },
  {
   "cell_type": "markdown",
   "metadata": {},
   "source": [
    "### Goals\n",
    "The main goal of this work is to develop a Dynamic Programming based solution to, given a specific timeframe, calculate which was the optimal trading strategy to maximize the profits for the given stock."
   ]
  },
  {
   "cell_type": "markdown",
   "metadata": {},
   "source": [
    "### Background\n",
    "**Complete Search**: a problem solving technique that computes all of the possible solutions and decides which of them was the best. Its major downside is efficiency, since common steps to achieve different solutions might be recalculated on every iteration that needs it. Even though complete search usually presents worst time complexity, its space complexity is reduced due to the fact that no additional data other than the actual solutions is kept during runtime.\n",
    "\n",
    "**Dynamic Programming (DP)**: a problem solving technique that evolves complete search. By creating a cache to keep previously calculated steps, those can be reused to calculate multiple solutions, avoiding unnecessary recalculation and improving time complexity by increasing space complexity due to the caching strategy. To model a problem around Dynamic Programming, the following is needed:\n",
    "- State variables\n",
    "- Base case of the problem\n",
    "- Transitions between each stage\n",
    "\n",
    "**Stock Trading**: when companies open their capital participation to the society, ordinary people can buy a share of these and inject money into something that they believe in the growth potential. If there is growth, the share price will increase and it can be potentially sold, returning profit to the owner. Affected by politics, natural phenomena and other unpredictable factors, a share in a company may vary its price in a pretty volatile manner. That's why it is considered as a high risk investment."
   ]
  },
  {
   "cell_type": "markdown",
   "metadata": {},
   "source": [
    "### Dynamic Programming Proposal\n",
    "#### Modeling the problem around DP\n",
    "Given its reduced execution time, Dynamic Programming can be considered a feasible approach to calculate what the optimal trading strategy is. The problem is modeled as below:\n",
    "- **State variables**: the current T in the timeline and the current account balance\n",
    "- **Base case**: T = 0 and account balance is equal to the price of the stock at the moment T = 0\n",
    "- **Possible transitions**:\n",
    "  1. Buy a stock, debiting its price to the current balance\n",
    "  2. Sell a stock, adding its price to the current balance\n",
    "  3. Do nothing, keeping the balance as it is\n",
    "  \n",
    "#### Code solution\n",
    "By applying the modeled problematic into a code implementation, the following is achieved:"
   ]
  },
  {
   "cell_type": "code",
   "execution_count": 3,
   "metadata": {},
   "outputs": [],
   "source": [
    "# Fetching stock data"
   ]
  },
  {
   "cell_type": "code",
   "execution_count": 4,
   "metadata": {},
   "outputs": [],
   "source": [
    "# Instantiating DP toolset"
   ]
  },
  {
   "cell_type": "code",
   "execution_count": 5,
   "metadata": {},
   "outputs": [],
   "source": [
    "# Executing code and showing results"
   ]
  },
  {
   "cell_type": "markdown",
   "metadata": {},
   "source": [
    "### Conclusion"
   ]
  }
 ],
 "metadata": {
  "kernelspec": {
   "display_name": "Python 3",
   "language": "python",
   "name": "python3"
  },
  "language_info": {
   "codemirror_mode": {
    "name": "ipython",
    "version": 3
   },
   "file_extension": ".py",
   "mimetype": "text/x-python",
   "name": "python",
   "nbconvert_exporter": "python",
   "pygments_lexer": "ipython3",
   "version": "3.7.3"
  }
 },
 "nbformat": 4,
 "nbformat_minor": 2
}
